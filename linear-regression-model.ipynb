{
 "cells": [
  {
   "cell_type": "markdown",
   "id": "a81fadb8",
   "metadata": {
    "id": "4461aa92",
    "papermill": {
     "duration": 0.011188,
     "end_time": "2025-07-16T09:24:23.066981",
     "exception": false,
     "start_time": "2025-07-16T09:24:23.055793",
     "status": "completed"
    },
    "tags": []
   },
   "source": [
    "# Building Linear Regression model from Scratch.\n",
    "\n",
    "This notebook explores the implementation of Simple and Multiple Linear Regression models from scratch using NumPy, and compares their performance to the corresponding models from the scikit-learn library. The models are applied to the USA Housing Dataset to predict house prices based on various features."
   ]
  },
  {
   "cell_type": "markdown",
   "id": "8640103a",
   "metadata": {
    "id": "iplpAAvG1-PH",
    "papermill": {
     "duration": 0.010466,
     "end_time": "2025-07-16T09:24:23.087626",
     "exception": false,
     "start_time": "2025-07-16T09:24:23.077160",
     "status": "completed"
    },
    "tags": []
   },
   "source": [
    "# Creating a Linear Regression Model from scrach"
   ]
  },
  {
   "cell_type": "code",
   "execution_count": 1,
   "id": "51a9c128",
   "metadata": {
    "execution": {
     "iopub.execute_input": "2025-07-16T09:24:23.108291Z",
     "iopub.status.busy": "2025-07-16T09:24:23.107974Z",
     "iopub.status.idle": "2025-07-16T09:24:26.488025Z",
     "shell.execute_reply": "2025-07-16T09:24:26.487309Z"
    },
    "executionInfo": {
     "elapsed": 2491,
     "status": "ok",
     "timestamp": 1752646271885,
     "user": {
      "displayName": "Aman Sagar",
      "userId": "17350048402290694597"
     },
     "user_tz": -330
    },
    "id": "S97R-1kdGSIu",
    "papermill": {
     "duration": 3.392059,
     "end_time": "2025-07-16T09:24:26.489549",
     "exception": false,
     "start_time": "2025-07-16T09:24:23.097490",
     "status": "completed"
    },
    "tags": []
   },
   "outputs": [],
   "source": [
    "import pandas as pd\n",
    "import numpy as np\n",
    "import matplotlib.pyplot as plt\n",
    "import seaborn as sns"
   ]
  },
  {
   "cell_type": "markdown",
   "id": "74fac944",
   "metadata": {
    "id": "auQu7gdfU0OS",
    "papermill": {
     "duration": 0.009436,
     "end_time": "2025-07-16T09:24:26.508716",
     "exception": false,
     "start_time": "2025-07-16T09:24:26.499280",
     "status": "completed"
    },
    "tags": []
   },
   "source": [
    "# Simple Linear Regression"
   ]
  },
  {
   "cell_type": "markdown",
   "id": "f000bb81",
   "metadata": {
    "id": "qVtYCHBl4DZa",
    "papermill": {
     "duration": 0.009197,
     "end_time": "2025-07-16T09:24:26.527394",
     "exception": false,
     "start_time": "2025-07-16T09:24:26.518197",
     "status": "completed"
    },
    "tags": []
   },
   "source": [
    "### This section expores the implementation of simple linear Regression model with a simple example of of predicting the pizza price based on the size of the pizza where:\n",
    "\n",
    "* X_pizza -- Contains the Size of Pizza in inches\n",
    "\n",
    "* y_pizza -- Contains the price of the Pizza in dollars"
   ]
  },
  {
   "cell_type": "code",
   "execution_count": 2,
   "id": "a61fe903",
   "metadata": {
    "execution": {
     "iopub.execute_input": "2025-07-16T09:24:26.547776Z",
     "iopub.status.busy": "2025-07-16T09:24:26.547336Z",
     "iopub.status.idle": "2025-07-16T09:24:26.551561Z",
     "shell.execute_reply": "2025-07-16T09:24:26.550843Z"
    },
    "executionInfo": {
     "elapsed": 11,
     "status": "ok",
     "timestamp": 1752646271889,
     "user": {
      "displayName": "Aman Sagar",
      "userId": "17350048402290694597"
     },
     "user_tz": -330
    },
    "id": "8VThURAcK65_",
    "papermill": {
     "duration": 0.016046,
     "end_time": "2025-07-16T09:24:26.552976",
     "exception": false,
     "start_time": "2025-07-16T09:24:26.536930",
     "status": "completed"
    },
    "tags": []
   },
   "outputs": [],
   "source": [
    "X_pizza = [8,10,12]\n",
    "y_pizza = [10,13,16]"
   ]
  },
  {
   "cell_type": "markdown",
   "id": "d759e5bc",
   "metadata": {
    "id": "9RPtsFx25OXk",
    "papermill": {
     "duration": 0.009433,
     "end_time": "2025-07-16T09:24:26.572190",
     "exception": false,
     "start_time": "2025-07-16T09:24:26.562757",
     "status": "completed"
    },
    "tags": []
   },
   "source": [
    "### The below code cell contains a class named `SimpleLinearRegression` which contains multiple functions to perform each function for a Linear Regression model line `.fit()` and `.predict`.\n",
    "\n",
    "* Simple Linear Regression where we have only one feature and one target variable.\n",
    "\n",
    "* This uses the simple formula `y = mx + b`\n",
    "\n",
    "  where:\n",
    "    * y --> target Variable.\n",
    "    * x --> feature variable.\n",
    "    * m --> Slope or we can say how much y changes when we change x by 1 unit\n",
    "    * b --> y-intecept or we can say the value of y when x is 0.\n",
    "\n",
    "  * Slope `m` can be calculated using the formula\n",
    "\n",
    "      `m = (Sum of product of deviation) / (Sum of square of deviation of X) `\n",
    "\n",
    "      where:\n",
    "      * `Sum of product of deviation` means first substracting all the values of X and Y in the data from mean of X and Y, then multiply each value of X deviation from its mean with the coressponding y deviation from its mean then calculatin the sum of these values.\n",
    "\n",
    "      * `Sum of square of deviation of X` mean the deviation of all the x values from its mean we calculated are first squared then summed together.\n",
    "\n",
    "  * y-intercept `b` can be calculated using the formula\n",
    "\n",
    "      `b = (mean of y values) - (m * mean of X values)`\n",
    "\n",
    "      where:\n",
    "\n",
    "      * `m` is the slope we calculated using the above equation.\n",
    "      * `mean of y values` and `mean of X values` are actualy what these tells can we calculated using `np.mean(X)` and `np.mean(y)`.\n",
    "\n",
    "* After calculating these values we can calculate any values of y that is the price of pizza for any values of X that is the size of the pizza by putting the values of thse variables into the equation.\n"
   ]
  },
  {
   "cell_type": "code",
   "execution_count": 3,
   "id": "1d3c954c",
   "metadata": {
    "execution": {
     "iopub.execute_input": "2025-07-16T09:24:26.592770Z",
     "iopub.status.busy": "2025-07-16T09:24:26.592479Z",
     "iopub.status.idle": "2025-07-16T09:24:26.602107Z",
     "shell.execute_reply": "2025-07-16T09:24:26.601449Z"
    },
    "executionInfo": {
     "elapsed": 769,
     "status": "ok",
     "timestamp": 1752646632986,
     "user": {
      "displayName": "Aman Sagar",
      "userId": "17350048402290694597"
     },
     "user_tz": -330
    },
    "id": "Zd3TRjzJOOBL",
    "papermill": {
     "duration": 0.021665,
     "end_time": "2025-07-16T09:24:26.603464",
     "exception": false,
     "start_time": "2025-07-16T09:24:26.581799",
     "status": "completed"
    },
    "tags": []
   },
   "outputs": [],
   "source": [
    "class SimpleLinearRegression:\n",
    "  # Defining a init funtion to initiate slope and intercept\n",
    "  def __init__(self):\n",
    "    self.slope = None\n",
    "    self.intercept = None\n",
    "\n",
    "  # Defines the function to train the model with feature and variable\n",
    "  def fit(self, x, y):\n",
    "    # Convert pandas Series to NumPy arrays\n",
    "    x = np.array(x)\n",
    "    y = np.array(y)\n",
    "\n",
    "    # Calculates the size of the X\n",
    "    n = len(x)\n",
    "\n",
    "    # Calculating the mean of X and y\n",
    "    x_mean = np.mean(x)\n",
    "    y_mean = np.mean(y)\n",
    "\n",
    "    # Calculating the sum of product of deviation of X and y from X_mean and y_mean\n",
    "    sum_product_deviation = np.sum([(x[i] - x_mean) * (y[i] - y_mean) for i in range(n)])\n",
    "\n",
    "    # Calculating the sum of squares of deviation of X from its mean\n",
    "    sum_x_square_deviation = np.sum([(x[i] - x_mean) ** 2 for i in range(n)])\n",
    "\n",
    "    # Calculating the slope and storing it in the slope variable defined above\n",
    "    self.slope = sum_product_deviation / sum_x_square_deviation\n",
    "\n",
    "    # Calculating the intercept and storing it in the intercept variable defined above\n",
    "    self.intercept = y_mean - self.slope * x_mean\n",
    "\n",
    "  # predict function for the simple linear regression\n",
    "  def predict(self, x):\n",
    "    # Convert pandas Series to NumPy array\n",
    "    x = np.array(x)\n",
    "\n",
    "    # using the formuala with intercept, slope and the given X values to get y\n",
    "    return [self.slope * x[i] + self.intercept for i in range(len(x))]\n",
    "\n",
    "  # This function calculates the R-squared error\n",
    "  def score(self, x, y):\n",
    "    # Convert pandas Series to NumPy arrays\n",
    "    x = np.array(x)\n",
    "    y = np.array(y)\n",
    "\n",
    "    # gets all the predicted values of with X feature\n",
    "    y_pred = self.predict(x)\n",
    "\n",
    "    # Calculates the numerators of the formulla\n",
    "    numerator = np.sum([(y[i] - y_pred[i]) ** 2 for i in range(len(y))])\n",
    "\n",
    "    # Calculates the denominator of the formula\n",
    "    denominator = np.sum([(y[i] - np.mean(y)) ** 2 for i in range(len(y))])\n",
    "\n",
    "    # Returns the r-squared values using numerator and denominator variables\n",
    "    return 1 - (numerator / denominator)\n",
    "\n",
    "  # Calculates the mean squared error using actual y value and the predicted y values\n",
    "  def mean_squared_error(self, y_true, y_pred):\n",
    "    # Convert pandas Series to NumPy arrays\n",
    "    y_true = np.array(y_true)\n",
    "    y_pred = np.array(y_pred)\n",
    "\n",
    "    # retuns the mean of sum of squared errors also known as MSE\n",
    "    return np.mean([(y_true[i] - y_pred[i]) ** 2 for i in range(len(y_true))])\n",
    "\n",
    "\n",
    "  # this one just returns the slope and intercept of the model.\n",
    "  def get_params(self):\n",
    "    return {'slope': self.slope, 'intercept': self.intercept}"
   ]
  },
  {
   "cell_type": "markdown",
   "id": "07aec6e7",
   "metadata": {
    "id": "rPBz0Fnk4VOv",
    "papermill": {
     "duration": 0.009269,
     "end_time": "2025-07-16T09:24:26.622539",
     "exception": false,
     "start_time": "2025-07-16T09:24:26.613270",
     "status": "completed"
    },
    "tags": []
   },
   "source": [
    "### Training the Simple Linear Regression model.\n",
    "\n",
    "  * First creating the object of the `SimpleLinearRegression` class defined above that will also initiate the variables of `slope` and `intercept` with none values.\n",
    "\n",
    "  * Then training the model with `.fit()` funtion that will calculates the best values of `slope` and `intercept` for the given Pizza price and size pizza."
   ]
  },
  {
   "cell_type": "code",
   "execution_count": 4,
   "id": "bbbdc23e",
   "metadata": {
    "execution": {
     "iopub.execute_input": "2025-07-16T09:24:26.643561Z",
     "iopub.status.busy": "2025-07-16T09:24:26.642926Z",
     "iopub.status.idle": "2025-07-16T09:24:26.646830Z",
     "shell.execute_reply": "2025-07-16T09:24:26.646210Z"
    },
    "executionInfo": {
     "elapsed": 5,
     "status": "ok",
     "timestamp": 1752646636273,
     "user": {
      "displayName": "Aman Sagar",
      "userId": "17350048402290694597"
     },
     "user_tz": -330
    },
    "id": "xp6HLFnJICZG",
    "papermill": {
     "duration": 0.01547,
     "end_time": "2025-07-16T09:24:26.648001",
     "exception": false,
     "start_time": "2025-07-16T09:24:26.632531",
     "status": "completed"
    },
    "tags": []
   },
   "outputs": [],
   "source": [
    "model = SimpleLinearRegression()\n",
    "model.fit(X_pizza,y_pizza)"
   ]
  },
  {
   "cell_type": "markdown",
   "id": "345e6818",
   "metadata": {
    "id": "ZiawnRk85M-A",
    "papermill": {
     "duration": 0.009316,
     "end_time": "2025-07-16T09:24:26.667023",
     "exception": false,
     "start_time": "2025-07-16T09:24:26.657707",
     "status": "completed"
    },
    "tags": []
   },
   "source": [
    "  * Let's see what are the best values of `slope` and `intercept` for this data by using `get_params()` funtion defined in the class."
   ]
  },
  {
   "cell_type": "code",
   "execution_count": 5,
   "id": "0b870cdb",
   "metadata": {
    "execution": {
     "iopub.execute_input": "2025-07-16T09:24:26.687495Z",
     "iopub.status.busy": "2025-07-16T09:24:26.686754Z",
     "iopub.status.idle": "2025-07-16T09:24:26.691549Z",
     "shell.execute_reply": "2025-07-16T09:24:26.690591Z"
    },
    "executionInfo": {
     "elapsed": 564,
     "status": "ok",
     "timestamp": 1752646931941,
     "user": {
      "displayName": "Aman Sagar",
      "userId": "17350048402290694597"
     },
     "user_tz": -330
    },
    "id": "lsAAazlfTMJu",
    "outputId": "a883cede-f3cf-4fdf-c99a-640cd133ec6b",
    "papermill": {
     "duration": 0.016256,
     "end_time": "2025-07-16T09:24:26.692775",
     "exception": false,
     "start_time": "2025-07-16T09:24:26.676519",
     "status": "completed"
    },
    "tags": []
   },
   "outputs": [
    {
     "name": "stdout",
     "output_type": "stream",
     "text": [
      "{'slope': 1.5, 'intercept': -2.0}\n"
     ]
    }
   ],
   "source": [
    "print(model.get_params())"
   ]
  },
  {
   "cell_type": "markdown",
   "id": "205a2282",
   "metadata": {
    "id": "hQK2SL885hcL",
    "papermill": {
     "duration": 0.009544,
     "end_time": "2025-07-16T09:24:26.712164",
     "exception": false,
     "start_time": "2025-07-16T09:24:26.702620",
     "status": "completed"
    },
    "tags": []
   },
   "source": [
    "  * we get `slope` as `1.5` which mean if we change the value of X with 1 unit the y will change by 1.5.\n",
    "\n",
    "  * Also we get the `intercept` as `-2` which means for `x = 0` we get `y = -2`"
   ]
  },
  {
   "cell_type": "markdown",
   "id": "a6459cb1",
   "metadata": {
    "id": "Cy8qUrrU6CVK",
    "papermill": {
     "duration": 0.009521,
     "end_time": "2025-07-16T09:24:26.731337",
     "exception": false,
     "start_time": "2025-07-16T09:24:26.721816",
     "status": "completed"
    },
    "tags": []
   },
   "source": [
    "* Now let's define a new variable `X_test` which contains the new or unseen data of the size of pizza with size of `20,30,25` inches.\n",
    "\n",
    "* Then using `.predict()` funtion we calculate the price of all these new sizes and print it."
   ]
  },
  {
   "cell_type": "code",
   "execution_count": 6,
   "id": "fc158007",
   "metadata": {
    "execution": {
     "iopub.execute_input": "2025-07-16T09:24:26.815544Z",
     "iopub.status.busy": "2025-07-16T09:24:26.815249Z",
     "iopub.status.idle": "2025-07-16T09:24:26.820057Z",
     "shell.execute_reply": "2025-07-16T09:24:26.819163Z"
    },
    "executionInfo": {
     "elapsed": 759,
     "status": "ok",
     "timestamp": 1752647231090,
     "user": {
      "displayName": "Aman Sagar",
      "userId": "17350048402290694597"
     },
     "user_tz": -330
    },
    "id": "RNCO3-TD21tK",
    "outputId": "67b8905d-17ee-40f3-a6a1-104b40cb009a",
    "papermill": {
     "duration": 0.017288,
     "end_time": "2025-07-16T09:24:26.821412",
     "exception": false,
     "start_time": "2025-07-16T09:24:26.804124",
     "status": "completed"
    },
    "tags": []
   },
   "outputs": [
    {
     "name": "stdout",
     "output_type": "stream",
     "text": [
      "[28.0, 43.0, 35.5]\n"
     ]
    }
   ],
   "source": [
    "X_test = [20,30,25]\n",
    "print(model.predict(X_test))"
   ]
  },
  {
   "cell_type": "markdown",
   "id": "84cd710a",
   "metadata": {
    "id": "E49gAezC_zBv",
    "papermill": {
     "duration": 0.009752,
     "end_time": "2025-07-16T09:24:26.841352",
     "exception": false,
     "start_time": "2025-07-16T09:24:26.831600",
     "status": "completed"
    },
    "tags": []
   },
   "source": [
    "### Performance metric and Loss Funtion"
   ]
  },
  {
   "cell_type": "markdown",
   "id": "b7a85246",
   "metadata": {
    "id": "bk6rD6aB_6bi",
    "papermill": {
     "duration": 0.009736,
     "end_time": "2025-07-16T09:24:26.861104",
     "exception": false,
     "start_time": "2025-07-16T09:24:26.851368",
     "status": "completed"
    },
    "tags": []
   },
   "source": [
    "#### Performance metric:"
   ]
  },
  {
   "cell_type": "markdown",
   "id": "2aea90ee",
   "metadata": {
    "id": "nIakQNoC6nhs",
    "papermill": {
     "duration": 0.009695,
     "end_time": "2025-07-16T09:24:26.881296",
     "exception": false,
     "start_time": "2025-07-16T09:24:26.871601",
     "status": "completed"
    },
    "tags": []
   },
   "source": [
    "  * This tells us that the pizza of sizes `20,30,25` can have the price oof `28,43,35.5` respectively."
   ]
  },
  {
   "cell_type": "markdown",
   "id": "4b07a855",
   "metadata": {
    "id": "MWooDSnP7Lnb",
    "papermill": {
     "duration": 0.010331,
     "end_time": "2025-07-16T09:24:26.901696",
     "exception": false,
     "start_time": "2025-07-16T09:24:26.891365",
     "status": "completed"
    },
    "tags": []
   },
   "source": [
    "* Now let's check the `R-squared Error` using the funtion defined in class `SimpleLinearRegression` with name `.score()`. which can be calculated mathematically using the formula:\n",
    "\n",
    "    => Score = `1 - ((∑(y_actual - y_predicted)^2)) / (∑(y_actual - y_mean)^2))`\n",
    "\n",
    "    where:\n",
    "    * y_actual --> Actual price of the pizza.\n",
    "    * y_predicted --> Predicted price for the same pizza\n",
    "    * y_mean --> mean of y\n",
    "\n",
    "    * This is used to chech how well our model is from the scale of `0 - 1` with 0 means worst and 1 means best meaning the values of score closer or 1 means a better model.\n",
    "\n",
    "#### Loss Function:\n",
    "\n",
    "\n",
    "* Then we calculated the `mean squared error` using function defined in the class `SimpleLinearRegression` with name `.mean_squared_error()` also known as `MSE`. which can be calculated mathematically using the formula:\n",
    "\n",
    "    => `MSE = (∑(y_actual - y_predicted)^2) / n`\n",
    "\n",
    "    where:\n",
    "      -> n --> number or total observations.\n",
    "      -> y_actual --> Actual price of the pizza.\n",
    "      -> y_predicted --> Predicted price for the same pizza\n",
    "\n",
    "    * This is nothing we are just calculating how much the actual value is different from the prediction value. That means the smaller it is the better our model is.\n",
    "\n"
   ]
  },
  {
   "cell_type": "code",
   "execution_count": 7,
   "id": "9f6f5d39",
   "metadata": {
    "execution": {
     "iopub.execute_input": "2025-07-16T09:24:26.923945Z",
     "iopub.status.busy": "2025-07-16T09:24:26.923063Z",
     "iopub.status.idle": "2025-07-16T09:24:26.928508Z",
     "shell.execute_reply": "2025-07-16T09:24:26.927654Z"
    },
    "executionInfo": {
     "elapsed": 612,
     "status": "ok",
     "timestamp": 1752647464648,
     "user": {
      "displayName": "Aman Sagar",
      "userId": "17350048402290694597"
     },
     "user_tz": -330
    },
    "id": "AlkNVAueO45c",
    "outputId": "c00377c6-ad1e-4c57-e5d7-45f226f0de23",
    "papermill": {
     "duration": 0.017671,
     "end_time": "2025-07-16T09:24:26.929771",
     "exception": false,
     "start_time": "2025-07-16T09:24:26.912100",
     "status": "completed"
    },
    "tags": []
   },
   "outputs": [
    {
     "name": "stdout",
     "output_type": "stream",
     "text": [
      "R-squared Score:  1.0\n",
      "mean_square_erroe:  0.0\n"
     ]
    }
   ],
   "source": [
    "print(\"R-squared Score: \", model.score(X_pizza,y_pizza))\n",
    "print(\"mean_square_erroe: \", model.mean_squared_error(y_pizza, model.predict(X_pizza)))"
   ]
  },
  {
   "cell_type": "markdown",
   "id": "7b734e57",
   "metadata": {
    "id": "KhZ1Iu88AE51",
    "papermill": {
     "duration": 0.009684,
     "end_time": "2025-07-16T09:24:26.949681",
     "exception": false,
     "start_time": "2025-07-16T09:24:26.939997",
     "status": "completed"
    },
    "tags": []
   },
   "source": [
    "* For this modelwe can a score of 1 meaning it is the best model with this data.\n",
    "\n",
    "* Also we get the mean squared error of 0 meaning this model is not getting any error on the traning data."
   ]
  },
  {
   "cell_type": "markdown",
   "id": "84d4564e",
   "metadata": {
    "id": "AZlUCTnKAbPA",
    "papermill": {
     "duration": 0.009824,
     "end_time": "2025-07-16T09:24:26.969952",
     "exception": false,
     "start_time": "2025-07-16T09:24:26.960128",
     "status": "completed"
    },
    "tags": []
   },
   "source": [
    "#### Let's visualize the model.\n",
    "\n",
    "* Using a scatter plot and a line plot we can see the actual value and the predicted values and the regression line that can show us how the model performed.\n",
    "\n"
   ]
  },
  {
   "cell_type": "code",
   "execution_count": 8,
   "id": "f3c5f118",
   "metadata": {
    "execution": {
     "iopub.execute_input": "2025-07-16T09:24:26.991330Z",
     "iopub.status.busy": "2025-07-16T09:24:26.990889Z",
     "iopub.status.idle": "2025-07-16T09:24:27.381024Z",
     "shell.execute_reply": "2025-07-16T09:24:27.380179Z"
    },
    "executionInfo": {
     "elapsed": 984,
     "status": "ok",
     "timestamp": 1752655024178,
     "user": {
      "displayName": "Aman Sagar",
      "userId": "17350048402290694597"
     },
     "user_tz": -330
    },
    "id": "CuxXo6j3Awjz",
    "outputId": "311ab04c-5559-4768-c1b5-396f801b357b",
    "papermill": {
     "duration": 0.402486,
     "end_time": "2025-07-16T09:24:27.382392",
     "exception": false,
     "start_time": "2025-07-16T09:24:26.979906",
     "status": "completed"
    },
    "tags": []
   },
   "outputs": [
    {
     "data": {
      "image/png": "[encoded data removed]",
      "text/plain": [
       "<Figure size 640x480 with 1 Axes>"
      ]
     },
     "metadata": {},
     "output_type": "display_data"
    }
   ],
   "source": [
    "sns.scatterplot(x=X_pizza, y=y_pizza, color='red')\n",
    "plt.plot(X_pizza, model.predict(X_pizza), color='purple')\n",
    "plt.title(\"Pizza Price vs Size\")\n",
    "plt.xlabel(\"Size (inches)\")\n",
    "plt.ylabel(\"Price (dollars)\")\n",
    "plt.show()"
   ]
  },
  {
   "cell_type": "markdown",
   "id": "79c27c5d",
   "metadata": {
    "id": "PLeqRyzCBmvZ",
    "papermill": {
     "duration": 0.01032,
     "end_time": "2025-07-16T09:24:27.403807",
     "exception": false,
     "start_time": "2025-07-16T09:24:27.393487",
     "status": "completed"
    },
    "tags": []
   },
   "source": [
    "* We can clearly see that the predicted values perfectly lies on the regression line meaning they don't have any error."
   ]
  },
  {
   "cell_type": "markdown",
   "id": "bd7c58a6",
   "metadata": {
    "id": "aKxgkR1pU47X",
    "papermill": {
     "duration": 0.010297,
     "end_time": "2025-07-16T09:24:27.424733",
     "exception": false,
     "start_time": "2025-07-16T09:24:27.414436",
     "status": "completed"
    },
    "tags": []
   },
   "source": [
    "# Multiple Linear Regression"
   ]
  },
  {
   "cell_type": "markdown",
   "id": "87989c74",
   "metadata": {
    "id": "UP15N9tlF5LX",
    "papermill": {
     "duration": 0.010311,
     "end_time": "2025-07-16T09:24:27.445708",
     "exception": false,
     "start_time": "2025-07-16T09:24:27.435397",
     "status": "completed"
    },
    "tags": []
   },
   "source": [
    "* This is used when we have more than one feature variable to predict one target variable. using more feature is best for accurate predictions."
   ]
  },
  {
   "cell_type": "markdown",
   "id": "0aae04de",
   "metadata": {
    "id": "up6BvzVvGXzL",
    "papermill": {
     "duration": 0.010225,
     "end_time": "2025-07-16T09:24:27.466425",
     "exception": false,
     "start_time": "2025-07-16T09:24:27.456200",
     "status": "completed"
    },
    "tags": []
   },
   "source": [
    "Here we will use a simple example with 2 featues variable.\n",
    "\n",
    "Example: Prediction of house prices based on Size of the house and the number of bedroom it contains.\n",
    "\n",
    "  Here:\n",
    "\n",
    "    # X1 -> Size of house in km-square(I know this is very large number but this one is just an example).\n",
    "    X1 = [1, 2, 3]\n",
    "    # X2 -> Number of bedroom in the house.\n",
    "    X2 = [3, 4, 7]\n",
    "    # y_house -> price of the house\n",
    "    \n",
    "    y_house = [2, 5, 9]\n",
    "\n",
    "    # We need to get all the values of X1 and X2 in a single list so we created\n",
    "\n",
    "    X_house = [[1, 3], [2, 4], [3, 7]]"
   ]
  },
  {
   "cell_type": "code",
   "execution_count": 9,
   "id": "1a6bdc63",
   "metadata": {
    "execution": {
     "iopub.execute_input": "2025-07-16T09:24:27.488970Z",
     "iopub.status.busy": "2025-07-16T09:24:27.488662Z",
     "iopub.status.idle": "2025-07-16T09:24:27.492931Z",
     "shell.execute_reply": "2025-07-16T09:24:27.492221Z"
    },
    "executionInfo": {
     "elapsed": 563,
     "status": "ok",
     "timestamp": 1752651038883,
     "user": {
      "displayName": "Aman Sagar",
      "userId": "17350048402290694597"
     },
     "user_tz": -330
    },
    "id": "GvbdGIuKVAMM",
    "papermill": {
     "duration": 0.017215,
     "end_time": "2025-07-16T09:24:27.494339",
     "exception": false,
     "start_time": "2025-07-16T09:24:27.477124",
     "status": "completed"
    },
    "tags": []
   },
   "outputs": [],
   "source": [
    "X_house = [[1,3],[2,4],[3,7]]\n",
    "y_house = [2,5,9]"
   ]
  },
  {
   "cell_type": "markdown",
   "id": "252b591a",
   "metadata": {
    "id": "9tgnjonQJL_c",
    "papermill": {
     "duration": 0.010381,
     "end_time": "2025-07-16T09:24:27.515493",
     "exception": false,
     "start_time": "2025-07-16T09:24:27.505112",
     "status": "completed"
    },
    "tags": []
   },
   "source": [
    "### The Code cell below contains the code for the class named `MultipleLinearRegression` which simulates the actual Linear Regression for multiple features with the simple function like `.fit()` for training and `.predict()` for predictions.\n",
    "\n",
    "* This can be done using maths with the formula:\n",
    "\n",
    "    `y = b0 + b1X1 + b2X2 + ----- + bnXn`\n",
    "\n",
    "    where:\n",
    "\n",
    "    * y -> the value to predict.\n",
    "    * X1, X2, X3, --- , Xn -> The feature variables.\n",
    "    * b1, b2, b3, --- , bn -> The Coefficients or we can say the weights correspond to that feature.\n",
    "    * b0 -> y-intercept as in the simple linear regression.\n",
    "\n",
    "* In this example we have 2 feature variables that's why we will use formula:\n",
    "\n",
    "  `y = b0 + b1X1 + b2X2`\n",
    "  \n",
    "  where:\n",
    "\n",
    "  * y -> House of the price.\n",
    "  * X1 -> Size of the house.\n",
    "  * X2 -> Number of bedrooms.\n",
    "\n",
    "* To calculates thes values of b0, b1 and b2 we will use metrix. So, we need to convert these in into metixes and apply the metrix equation.\n",
    "\n",
    "  ```b_cap = (inverse(tranpose(X)X)transpose(X))Y```\n",
    "\n",
    "  where:\n",
    "\n",
    "  * b_cap -> contains the coefficients b0, b1, b2 in form of 3x1 metrix.\n",
    "    \n",
    "    ```\n",
    "     b_cap = [b0\n",
    "              b1\n",
    "              b2]\n",
    "    ```\n",
    "  * X - > Contains the Values of X1 as 2nd column, X2 as 3rd column and an in the first column all values will be 1 in a 3x3 metrix. In this case\n",
    "\n",
    "    ```\n",
    "     X = [1, 1, 3\n",
    "          1, 2, 4\n",
    "          1, 3, 7]\n",
    "    ```\n",
    "  * Y -> contains the values of y or target variable in form of a 3x1 metrix. In this case\n",
    "\n",
    "    ```\n",
    "     Y = [2\n",
    "          5\n",
    "          9]\n",
    "    ```\n",
    "\n",
    "  * Now first we will transpose the metrix X and multiply it with the actualy metrix X using metrix multiplication. In this case we will get\n",
    "\n",
    "  ```\n",
    "   transpose(X)X = [3, 6, 14\n",
    "                    6, 14, 32\n",
    "                    14, 32, 74]\n",
    "  ```\n",
    "\n",
    "  * Then we will find the inverse of this new metrix. Usinf the actual procesure that will take time. I am writing the inverse directly.\n",
    "\n",
    "  ```\n",
    "    inverse(tranpose(x)X) = [3, 1, -1\n",
    "                             1, 6.5, -3\n",
    "                             -1, -3, 1.5]\n",
    "  ```\n",
    "\n",
    "  * Now Multiply it again with transpose of X and then multiply the new metrix with the metrix Y using metrix multiplication.\n",
    "\n",
    "  ```\n",
    "    (inverse(transpose(X)X)transpose(X))Y = b_cap = [-2\n",
    "                                                     2.5\n",
    "                                                     0.5]\n",
    "  ```\n",
    "\n",
    "  * This `b_cap` metrix is what we need and it contains the coeffients of b0, b1, b2.\n",
    "\n",
    "  * And for prediction if we define some a 3x1 merix with the new 1, X1 and X2 and multiply the new metrix with this b_cap 3x1 metrix using metrix multiplication. Since, both these metrixes are 3x1 we will get a single value which will we the price of the house y for the new area and number of bed rooms."
   ]
  },
  {
   "cell_type": "code",
   "execution_count": 10,
   "id": "7db557b6",
   "metadata": {
    "execution": {
     "iopub.execute_input": "2025-07-16T09:24:27.539101Z",
     "iopub.status.busy": "2025-07-16T09:24:27.538657Z",
     "iopub.status.idle": "2025-07-16T09:24:27.547950Z",
     "shell.execute_reply": "2025-07-16T09:24:27.547209Z"
    },
    "executionInfo": {
     "elapsed": 798,
     "status": "ok",
     "timestamp": 1752654490711,
     "user": {
      "displayName": "Aman Sagar",
      "userId": "17350048402290694597"
     },
     "user_tz": -330
    },
    "id": "3MJn1XeMUq90",
    "papermill": {
     "duration": 0.023313,
     "end_time": "2025-07-16T09:24:27.549348",
     "exception": false,
     "start_time": "2025-07-16T09:24:27.526035",
     "status": "completed"
    },
    "tags": []
   },
   "outputs": [],
   "source": [
    "# Defining the MultipleLinearRegression class\n",
    "class MultipleLinearRegression:\n",
    "  # Defining a init function to initiate the metrix coefficients with None values.\n",
    "  def __init__(self):\n",
    "    self.coefficients = None\n",
    "\n",
    "  # Defining a fit function to train the model.\n",
    "  def fit(self, X, y):\n",
    "    X = np.array(X) # Convert to NumPy array for using numpy which will make the\n",
    "    y = np.array(y) # Calculaton easier.\n",
    "\n",
    "    # If we get a metrix in one dimension convert it to 2 dimension\n",
    "    if X.ndim == 1:\n",
    "        X = X.reshape(-1, 1) # Reshape to a 2D array if it's 1D\n",
    "\n",
    "    # Defining a new metrix with only 1 values in all the places.\n",
    "    ones_col = np.ones((X.shape[0], 1))\n",
    "\n",
    "    # Ensure both arrays have the same number of rows before stacking\n",
    "    if ones_col.shape[0] != X.shape[0]:\n",
    "        raise ValueError(\"Number of rows in ones column and X must be the same for stacking.\")\n",
    "\n",
    "    # combining the ones_col and X metrix to form a single metrix\n",
    "    X = np.hstack((ones_col, X))\n",
    "\n",
    "    # Use np.linalg.solve for potentially better numerical stability\n",
    "    self.coefficients = np.linalg.solve(X.T.dot(X), X.T.dot(y))\n",
    "\n",
    "  # defining a predict function\n",
    "  def predict(self, X):\n",
    "    X = np.array(X) # Convert to NumPy array\n",
    "\n",
    "    # Coverting 1D array to 2D array\n",
    "    if X.ndim == 1:\n",
    "        X = X.reshape(-1, 1) # Reshape to a 2D array if it's 1D\n",
    "\n",
    "    # Creating a metrix with only 1 values in all the places\n",
    "    ones_col = np.ones((X.shape[0], 1))\n",
    "\n",
    "    # Combining the two metrixes\n",
    "    X = np.hstack((ones_col, X))\n",
    "\n",
    "    # Getting the prediction by multiplying the X to coefficients metrix\n",
    "    # usinf dot multiplication.\n",
    "    return X.dot(self.coefficients)\n",
    "\n",
    "  # Defining a score function to calculate the R-squared error\n",
    "  def score(self, X, y):\n",
    "    X = np.array(X) # Convert to NumPy array\n",
    "    y = np.array(y) # Convert to NumPy array\n",
    "    y_pred = self.predict(X)\n",
    "    numerator = np.sum([(y[i] - y_pred[i]) ** 2 for i in range(len(y))])\n",
    "    denominator = np.sum([(y[i] - np.mean(y)) ** 2 for i in range(len(y))])\n",
    "    return 1 - (numerator / denominator)\n",
    "\n",
    "  # Calculating mean squared error\n",
    "  def mean_squared_error(self, y_true, y_pred):\n",
    "    y_true = np.array(y_true) # Convert to NumPy array\n",
    "    y_pred = np.array(y_pred) # Convert to NumPy array\n",
    "    return np.mean([(y_true[i] - y_pred[i]) ** 2 for i in range(len(y_true))])\n",
    "\n",
    "  # Returing the coefficients of the model\n",
    "  def get_params(self):\n",
    "    return {'coefficients': self.coefficients}"
   ]
  },
  {
   "cell_type": "markdown",
   "id": "0de86322",
   "metadata": {
    "id": "irb70-7KVimO",
    "papermill": {
     "duration": 0.010496,
     "end_time": "2025-07-16T09:24:27.570625",
     "exception": false,
     "start_time": "2025-07-16T09:24:27.560129",
     "status": "completed"
    },
    "tags": []
   },
   "source": [
    "### Training the `MultipleLinearRegression` model."
   ]
  },
  {
   "cell_type": "code",
   "execution_count": 11,
   "id": "cbb9e1ad",
   "metadata": {
    "execution": {
     "iopub.execute_input": "2025-07-16T09:24:27.593060Z",
     "iopub.status.busy": "2025-07-16T09:24:27.592756Z",
     "iopub.status.idle": "2025-07-16T09:24:27.597693Z",
     "shell.execute_reply": "2025-07-16T09:24:27.597168Z"
    },
    "executionInfo": {
     "elapsed": 8,
     "status": "ok",
     "timestamp": 1752654493323,
     "user": {
      "displayName": "Aman Sagar",
      "userId": "17350048402290694597"
     },
     "user_tz": -330
    },
    "id": "nhGm87KUWIpy",
    "papermill": {
     "duration": 0.017582,
     "end_time": "2025-07-16T09:24:27.598887",
     "exception": false,
     "start_time": "2025-07-16T09:24:27.581305",
     "status": "completed"
    },
    "tags": []
   },
   "outputs": [],
   "source": [
    "# Creating the object of the class\n",
    "model1 = MultipleLinearRegression()\n",
    "\n",
    "# Training the model using .fit function.\n",
    "model1.fit(X_house,y_house)"
   ]
  },
  {
   "cell_type": "markdown",
   "id": "c7025b92",
   "metadata": {
    "id": "xCYKNoKsVv0j",
    "papermill": {
     "duration": 0.010369,
     "end_time": "2025-07-16T09:24:27.620045",
     "exception": false,
     "start_time": "2025-07-16T09:24:27.609676",
     "status": "completed"
    },
    "tags": []
   },
   "source": [
    "### See all the coefficients."
   ]
  },
  {
   "cell_type": "code",
   "execution_count": 12,
   "id": "0a936489",
   "metadata": {
    "execution": {
     "iopub.execute_input": "2025-07-16T09:24:27.643927Z",
     "iopub.status.busy": "2025-07-16T09:24:27.643357Z",
     "iopub.status.idle": "2025-07-16T09:24:27.649357Z",
     "shell.execute_reply": "2025-07-16T09:24:27.648442Z"
    },
    "executionInfo": {
     "elapsed": 9,
     "status": "ok",
     "timestamp": 1752654494221,
     "user": {
      "displayName": "Aman Sagar",
      "userId": "17350048402290694597"
     },
     "user_tz": -330
    },
    "id": "mIPxrOxGCbmd",
    "outputId": "1306eef0-91f6-4e7b-e857-cf3173096bb0",
    "papermill": {
     "duration": 0.019718,
     "end_time": "2025-07-16T09:24:27.650776",
     "exception": false,
     "start_time": "2025-07-16T09:24:27.631058",
     "status": "completed"
    },
    "tags": []
   },
   "outputs": [
    {
     "data": {
      "text/plain": [
       "{'coefficients': array([-2. ,  2.5,  0.5])}"
      ]
     },
     "execution_count": 12,
     "metadata": {},
     "output_type": "execute_result"
    }
   ],
   "source": [
    "# Gets all the coeffiecients for the model.\n",
    "model1.get_params()"
   ]
  },
  {
   "cell_type": "markdown",
   "id": "f6849b96",
   "metadata": {
    "id": "hstueyIoV_es",
    "papermill": {
     "duration": 0.01063,
     "end_time": "2025-07-16T09:24:27.672558",
     "exception": false,
     "start_time": "2025-07-16T09:24:27.661928",
     "status": "completed"
    },
    "tags": []
   },
   "source": [
    "* Here we get `b0 = -2`, `b1 = 2.5` and `b2 = 0.5`"
   ]
  },
  {
   "cell_type": "markdown",
   "id": "015676cf",
   "metadata": {
    "id": "GQbgpAoXXYaJ",
    "papermill": {
     "duration": 0.010554,
     "end_time": "2025-07-16T09:24:27.693997",
     "exception": false,
     "start_time": "2025-07-16T09:24:27.683443",
     "status": "completed"
    },
    "tags": []
   },
   "source": [
    "### Prediction"
   ]
  },
  {
   "cell_type": "code",
   "execution_count": 13,
   "id": "73f5159f",
   "metadata": {
    "execution": {
     "iopub.execute_input": "2025-07-16T09:24:27.716736Z",
     "iopub.status.busy": "2025-07-16T09:24:27.716428Z",
     "iopub.status.idle": "2025-07-16T09:24:27.721597Z",
     "shell.execute_reply": "2025-07-16T09:24:27.720678Z"
    },
    "executionInfo": {
     "elapsed": 14,
     "status": "ok",
     "timestamp": 1752654496223,
     "user": {
      "displayName": "Aman Sagar",
      "userId": "17350048402290694597"
     },
     "user_tz": -330
    },
    "id": "kCsOWZCDCUcp",
    "outputId": "6866ca37-cbd4-4f9a-b2a6-9f5ca0023ce6",
    "papermill": {
     "duration": 0.018391,
     "end_time": "2025-07-16T09:24:27.723007",
     "exception": false,
     "start_time": "2025-07-16T09:24:27.704616",
     "status": "completed"
    },
    "tags": []
   },
   "outputs": [
    {
     "name": "stdout",
     "output_type": "stream",
     "text": [
      "[3.25]\n"
     ]
    }
   ],
   "source": [
    "# Defining a new size and number of bedroom as a new data\n",
    "X_house_test = np.array([[1.5,3]])\n",
    "\n",
    "# Printing the prediction for these features\n",
    "print(model1.predict(X_house_test))"
   ]
  },
  {
   "cell_type": "markdown",
   "id": "71670165",
   "metadata": {
    "id": "Ubd9t8gkWwxZ",
    "papermill": {
     "duration": 0.010712,
     "end_time": "2025-07-16T09:24:27.744835",
     "exception": false,
     "start_time": "2025-07-16T09:24:27.734123",
     "status": "completed"
    },
    "tags": []
   },
   "source": [
    "* we get price of new house as 3.25 crores for the house 1.5 km square area with 3 bed rooms."
   ]
  },
  {
   "cell_type": "markdown",
   "id": "77e8c185",
   "metadata": {
    "id": "Y6jvwv61XbQN",
    "papermill": {
     "duration": 0.010635,
     "end_time": "2025-07-16T09:24:27.766489",
     "exception": false,
     "start_time": "2025-07-16T09:24:27.755854",
     "status": "completed"
    },
    "tags": []
   },
   "source": [
    "### Performance Metrices."
   ]
  },
  {
   "cell_type": "markdown",
   "id": "d63dde36",
   "metadata": {
    "id": "_3dWZ5qoXIy9",
    "papermill": {
     "duration": 0.010659,
     "end_time": "2025-07-16T09:24:27.788080",
     "exception": false,
     "start_time": "2025-07-16T09:24:27.777421",
     "status": "completed"
    },
    "tags": []
   },
   "source": [
    "* Let's calculate the `R-squared error` and the `mean squared error` as we done in simple linear regression"
   ]
  },
  {
   "cell_type": "code",
   "execution_count": 14,
   "id": "27b8097f",
   "metadata": {
    "execution": {
     "iopub.execute_input": "2025-07-16T09:24:27.810744Z",
     "iopub.status.busy": "2025-07-16T09:24:27.810458Z",
     "iopub.status.idle": "2025-07-16T09:24:27.815862Z",
     "shell.execute_reply": "2025-07-16T09:24:27.814957Z"
    },
    "executionInfo": {
     "elapsed": 7,
     "status": "ok",
     "timestamp": 1752651052438,
     "user": {
      "displayName": "Aman Sagar",
      "userId": "17350048402290694597"
     },
     "user_tz": -330
    },
    "id": "9jyjQk_QWQMx",
    "outputId": "a4219ba5-b4b8-4120-94a7-c853f132b558",
    "papermill": {
     "duration": 0.018432,
     "end_time": "2025-07-16T09:24:27.817250",
     "exception": false,
     "start_time": "2025-07-16T09:24:27.798818",
     "status": "completed"
    },
    "tags": []
   },
   "outputs": [
    {
     "name": "stdout",
     "output_type": "stream",
     "text": [
      "R-squared error 1.0\n",
      "mean_square_error 1.314768175368353e-30\n"
     ]
    }
   ],
   "source": [
    "print(\"R-squared error\", model1.score(X_house,y_house))\n",
    "print(\"mean_square_error\", model1.mean_squared_error(y_house, model1.predict(X_house)))"
   ]
  },
  {
   "cell_type": "markdown",
   "id": "ecc15d15",
   "metadata": {
    "id": "KNqkPPH4Xkzs",
    "papermill": {
     "duration": 0.010831,
     "end_time": "2025-07-16T09:24:27.839321",
     "exception": false,
     "start_time": "2025-07-16T09:24:27.828490",
     "status": "completed"
    },
    "tags": []
   },
   "source": [
    "* Here for these small data we get a perfect score of 1 for `R-squared error` and error in the form of `10^-29` which is a very small number for mean square error we can say that it does not have any error."
   ]
  },
  {
   "cell_type": "markdown",
   "id": "56b22067",
   "metadata": {
    "id": "GGAv_z3RYEOa",
    "papermill": {
     "duration": 0.010572,
     "end_time": "2025-07-16T09:24:27.860761",
     "exception": false,
     "start_time": "2025-07-16T09:24:27.850189",
     "status": "completed"
    },
    "tags": []
   },
   "source": [
    "### Let's visualize it using scatter plot"
   ]
  },
  {
   "cell_type": "code",
   "execution_count": 15,
   "id": "220880de",
   "metadata": {
    "execution": {
     "iopub.execute_input": "2025-07-16T09:24:27.883975Z",
     "iopub.status.busy": "2025-07-16T09:24:27.883659Z",
     "iopub.status.idle": "2025-07-16T09:24:28.071876Z",
     "shell.execute_reply": "2025-07-16T09:24:28.071008Z"
    },
    "executionInfo": {
     "elapsed": 1077,
     "status": "ok",
     "timestamp": 1752655309889,
     "user": {
      "displayName": "Aman Sagar",
      "userId": "17350048402290694597"
     },
     "user_tz": -330
    },
    "id": "hlitlZMQYIOK",
    "outputId": "c518020e-b775-488b-d6f7-5b238d5985bb",
    "papermill": {
     "duration": 0.201618,
     "end_time": "2025-07-16T09:24:28.073266",
     "exception": false,
     "start_time": "2025-07-16T09:24:27.871648",
     "status": "completed"
    },
    "tags": []
   },
   "outputs": [
    {
     "name": "stderr",
     "output_type": "stream",
     "text": [
      "/tmp/ipykernel_13/3680185400.py:6: UserWarning: color is redundantly defined by the 'color' keyword argument and the fmt string \"k--\" (-> color='k'). The keyword argument will take precedence.\n",
      "  plt.plot([np.array(y_house).min(), np.array(y_house).max()], [np.array(y_house).min(), np.array(y_house).max()], 'k--', lw=2, color='red')\n"
     ]
    },
    {
     "data": {
      "image/png": "[encoded data removed]",
      "text/plain": [
       "<Figure size 640x480 with 1 Axes>"
      ]
     },
     "metadata": {},
     "output_type": "display_data"
    }
   ],
   "source": [
    "plt.scatter(y_house, model1.predict(X_house), alpha=0.5)\n",
    "plt.xlabel(\"Actual Prices\")\n",
    "plt.ylabel(\"Predicted Prices (Multiple Regression)\")\n",
    "plt.title(\"Actual vs Predicted Prices (Multiple Linear Regression)\")\n",
    "# Add a line representing perfect prediction\n",
    "plt.plot([np.array(y_house).min(), np.array(y_house).max()], [np.array(y_house).min(), np.array(y_house).max()], 'k--', lw=2, color='red')\n",
    "plt.show()"
   ]
  },
  {
   "cell_type": "markdown",
   "id": "494e499b",
   "metadata": {
    "id": "Si7gwbTMZcIj",
    "papermill": {
     "duration": 0.012452,
     "end_time": "2025-07-16T09:24:28.098457",
     "exception": false,
     "start_time": "2025-07-16T09:24:28.086005",
     "status": "completed"
    },
    "tags": []
   },
   "source": [
    "# Lets use a Real Dataset to test performance of this model."
   ]
  },
  {
   "cell_type": "markdown",
   "id": "403666bb",
   "metadata": {
    "id": "Cig9lGwEkLnm",
    "papermill": {
     "duration": 0.011138,
     "end_time": "2025-07-16T09:24:28.121868",
     "exception": false,
     "start_time": "2025-07-16T09:24:28.110730",
     "status": "completed"
    },
    "tags": []
   },
   "source": [
    "# USA Housing Data"
   ]
  },
  {
   "cell_type": "code",
   "execution_count": 16,
   "id": "47071cd2",
   "metadata": {
    "execution": {
     "iopub.execute_input": "2025-07-16T09:24:28.146174Z",
     "iopub.status.busy": "2025-07-16T09:24:28.145629Z",
     "iopub.status.idle": "2025-07-16T09:24:28.197556Z",
     "shell.execute_reply": "2025-07-16T09:24:28.196749Z"
    },
    "executionInfo": {
     "elapsed": 11,
     "status": "ok",
     "timestamp": 1752655469732,
     "user": {
      "displayName": "Aman Sagar",
      "userId": "17350048402290694597"
     },
     "user_tz": -330
    },
    "id": "zW04ovOBe1KL",
    "outputId": "f3cc392e-a6aa-4e3b-d123-3355fb2fb7a4",
    "papermill": {
     "duration": 0.065638,
     "end_time": "2025-07-16T09:24:28.198983",
     "exception": false,
     "start_time": "2025-07-16T09:24:28.133345",
     "status": "completed"
    },
    "tags": []
   },
   "outputs": [
    {
     "data": {
      "text/html": [
       "<div>\n",
       "<style scoped>\n",
       "    .dataframe tbody tr th:only-of-type {\n",
       "        vertical-align: middle;\n",
       "    }\n",
       "\n",
       "    .dataframe tbody tr th {\n",
       "        vertical-align: top;\n",
       "    }\n",
       "\n",
       "    .dataframe thead th {\n",
       "        text-align: right;\n",
       "    }\n",
       "</style>\n",
       "<table border=\"1\" class=\"dataframe\">\n",
       "  <thead>\n",
       "    <tr style=\"text-align: right;\">\n",
       "      <th></th>\n",
       "      <th>date</th>\n",
       "      <th>price</th>\n",
       "      <th>bedrooms</th>\n",
       "      <th>bathrooms</th>\n",
       "      <th>sqft_living</th>\n",
       "      <th>sqft_lot</th>\n",
       "      <th>floors</th>\n",
       "      <th>waterfront</th>\n",
       "      <th>view</th>\n",
       "      <th>condition</th>\n",
       "      <th>sqft_above</th>\n",
       "      <th>sqft_basement</th>\n",
       "      <th>yr_built</th>\n",
       "      <th>yr_renovated</th>\n",
       "      <th>street</th>\n",
       "      <th>city</th>\n",
       "      <th>statezip</th>\n",
       "      <th>country</th>\n",
       "    </tr>\n",
       "  </thead>\n",
       "  <tbody>\n",
       "    <tr>\n",
       "      <th>0</th>\n",
       "      <td>2014-05-09 00:00:00</td>\n",
       "      <td>376000.0</td>\n",
       "      <td>3.0</td>\n",
       "      <td>2.00</td>\n",
       "      <td>1340</td>\n",
       "      <td>1384</td>\n",
       "      <td>3.0</td>\n",
       "      <td>0</td>\n",
       "      <td>0</td>\n",
       "      <td>3</td>\n",
       "      <td>1340</td>\n",
       "      <td>0</td>\n",
       "      <td>2008</td>\n",
       "      <td>0</td>\n",
       "      <td>9245-9249 Fremont Ave N</td>\n",
       "      <td>Seattle</td>\n",
       "      <td>WA 98103</td>\n",
       "      <td>USA</td>\n",
       "    </tr>\n",
       "    <tr>\n",
       "      <th>1</th>\n",
       "      <td>2014-05-09 00:00:00</td>\n",
       "      <td>800000.0</td>\n",
       "      <td>4.0</td>\n",
       "      <td>3.25</td>\n",
       "      <td>3540</td>\n",
       "      <td>159430</td>\n",
       "      <td>2.0</td>\n",
       "      <td>0</td>\n",
       "      <td>0</td>\n",
       "      <td>3</td>\n",
       "      <td>3540</td>\n",
       "      <td>0</td>\n",
       "      <td>2007</td>\n",
       "      <td>0</td>\n",
       "      <td>33001 NE 24th St</td>\n",
       "      <td>Carnation</td>\n",
       "      <td>WA 98014</td>\n",
       "      <td>USA</td>\n",
       "    </tr>\n",
       "    <tr>\n",
       "      <th>2</th>\n",
       "      <td>2014-05-09 00:00:00</td>\n",
       "      <td>2238888.0</td>\n",
       "      <td>5.0</td>\n",
       "      <td>6.50</td>\n",
       "      <td>7270</td>\n",
       "      <td>130017</td>\n",
       "      <td>2.0</td>\n",
       "      <td>0</td>\n",
       "      <td>0</td>\n",
       "      <td>3</td>\n",
       "      <td>6420</td>\n",
       "      <td>850</td>\n",
       "      <td>2010</td>\n",
       "      <td>0</td>\n",
       "      <td>7070 270th Pl SE</td>\n",
       "      <td>Issaquah</td>\n",
       "      <td>WA 98029</td>\n",
       "      <td>USA</td>\n",
       "    </tr>\n",
       "    <tr>\n",
       "      <th>3</th>\n",
       "      <td>2014-05-09 00:00:00</td>\n",
       "      <td>324000.0</td>\n",
       "      <td>3.0</td>\n",
       "      <td>2.25</td>\n",
       "      <td>998</td>\n",
       "      <td>904</td>\n",
       "      <td>2.0</td>\n",
       "      <td>0</td>\n",
       "      <td>0</td>\n",
       "      <td>3</td>\n",
       "      <td>798</td>\n",
       "      <td>200</td>\n",
       "      <td>2007</td>\n",
       "      <td>0</td>\n",
       "      <td>820 NW 95th St</td>\n",
       "      <td>Seattle</td>\n",
       "      <td>WA 98117</td>\n",
       "      <td>USA</td>\n",
       "    </tr>\n",
       "    <tr>\n",
       "      <th>4</th>\n",
       "      <td>2014-05-10 00:00:00</td>\n",
       "      <td>549900.0</td>\n",
       "      <td>5.0</td>\n",
       "      <td>2.75</td>\n",
       "      <td>3060</td>\n",
       "      <td>7015</td>\n",
       "      <td>1.0</td>\n",
       "      <td>0</td>\n",
       "      <td>0</td>\n",
       "      <td>5</td>\n",
       "      <td>1600</td>\n",
       "      <td>1460</td>\n",
       "      <td>1979</td>\n",
       "      <td>0</td>\n",
       "      <td>10834 31st Ave SW</td>\n",
       "      <td>Seattle</td>\n",
       "      <td>WA 98146</td>\n",
       "      <td>USA</td>\n",
       "    </tr>\n",
       "  </tbody>\n",
       "</table>\n",
       "</div>"
      ],
      "text/plain": [
       "                  date      price  bedrooms  bathrooms  sqft_living  sqft_lot  \\\n",
       "0  2014-05-09 00:00:00   376000.0       3.0       2.00         1340      1384   \n",
       "1  2014-05-09 00:00:00   800000.0       4.0       3.25         3540    159430   \n",
       "2  2014-05-09 00:00:00  2238888.0       5.0       6.50         7270    130017   \n",
       "3  2014-05-09 00:00:00   324000.0       3.0       2.25          998       904   \n",
       "4  2014-05-10 00:00:00   549900.0       5.0       2.75         3060      7015   \n",
       "\n",
       "   floors  waterfront  view  condition  sqft_above  sqft_basement  yr_built  \\\n",
       "0     3.0           0     0          3        1340              0      2008   \n",
       "1     2.0           0     0          3        3540              0      2007   \n",
       "2     2.0           0     0          3        6420            850      2010   \n",
       "3     2.0           0     0          3         798            200      2007   \n",
       "4     1.0           0     0          5        1600           1460      1979   \n",
       "\n",
       "   yr_renovated                   street       city  statezip country  \n",
       "0             0  9245-9249 Fremont Ave N    Seattle  WA 98103     USA  \n",
       "1             0         33001 NE 24th St  Carnation  WA 98014     USA  \n",
       "2             0         7070 270th Pl SE   Issaquah  WA 98029     USA  \n",
       "3             0           820 NW 95th St    Seattle  WA 98117     USA  \n",
       "4             0        10834 31st Ave SW    Seattle  WA 98146     USA  "
      ]
     },
     "execution_count": 16,
     "metadata": {},
     "output_type": "execute_result"
    }
   ],
   "source": [
    "# Importing the data\n",
    "house_df = pd.read_csv(\"/kaggle/input/usa-house-price/USA Housing Dataset.csv\")\n",
    "\n",
    "# Get a look at data\n",
    "house_df.head()"
   ]
  },
  {
   "cell_type": "code",
   "execution_count": 17,
   "id": "0b41bb46",
   "metadata": {
    "execution": {
     "iopub.execute_input": "2025-07-16T09:24:28.224229Z",
     "iopub.status.busy": "2025-07-16T09:24:28.223885Z",
     "iopub.status.idle": "2025-07-16T09:24:28.228829Z",
     "shell.execute_reply": "2025-07-16T09:24:28.228077Z"
    },
    "executionInfo": {
     "elapsed": 15,
     "status": "ok",
     "timestamp": 1752655671644,
     "user": {
      "displayName": "Aman Sagar",
      "userId": "17350048402290694597"
     },
     "user_tz": -330
    },
    "id": "XGX-ZW9CawdP",
    "outputId": "e943f5cc-6413-42b7-dfb6-f284896a8722",
    "papermill": {
     "duration": 0.018754,
     "end_time": "2025-07-16T09:24:28.230026",
     "exception": false,
     "start_time": "2025-07-16T09:24:28.211272",
     "status": "completed"
    },
    "tags": []
   },
   "outputs": [
    {
     "data": {
      "text/plain": [
       "(4140, 18)"
      ]
     },
     "execution_count": 17,
     "metadata": {},
     "output_type": "execute_result"
    }
   ],
   "source": [
    "# See the number of rows and column of the data frame\n",
    "house_df.shape"
   ]
  },
  {
   "cell_type": "markdown",
   "id": "abd01a88",
   "metadata": {
    "id": "_i2hRiHha3IH",
    "papermill": {
     "duration": 0.011825,
     "end_time": "2025-07-16T09:24:28.254496",
     "exception": false,
     "start_time": "2025-07-16T09:24:28.242671",
     "status": "completed"
    },
    "tags": []
   },
   "source": [
    "* That's a lot of data."
   ]
  },
  {
   "cell_type": "code",
   "execution_count": 18,
   "id": "fc8ac14b",
   "metadata": {
    "execution": {
     "iopub.execute_input": "2025-07-16T09:24:28.279814Z",
     "iopub.status.busy": "2025-07-16T09:24:28.279264Z",
     "iopub.status.idle": "2025-07-16T09:24:28.287307Z",
     "shell.execute_reply": "2025-07-16T09:24:28.286525Z"
    },
    "executionInfo": {
     "elapsed": 720,
     "status": "ok",
     "timestamp": 1752655471247,
     "user": {
      "displayName": "Aman Sagar",
      "userId": "17350048402290694597"
     },
     "user_tz": -330
    },
    "id": "IVgbPW5Cl-pV",
    "outputId": "f6df9885-f67a-4956-fcda-29b7cf249401",
    "papermill": {
     "duration": 0.022067,
     "end_time": "2025-07-16T09:24:28.288626",
     "exception": false,
     "start_time": "2025-07-16T09:24:28.266559",
     "status": "completed"
    },
    "tags": []
   },
   "outputs": [
    {
     "data": {
      "text/plain": [
       "date             0\n",
       "price            0\n",
       "bedrooms         0\n",
       "bathrooms        0\n",
       "sqft_living      0\n",
       "sqft_lot         0\n",
       "floors           0\n",
       "waterfront       0\n",
       "view             0\n",
       "condition        0\n",
       "sqft_above       0\n",
       "sqft_basement    0\n",
       "yr_built         0\n",
       "yr_renovated     0\n",
       "street           0\n",
       "city             0\n",
       "statezip         0\n",
       "country          0\n",
       "dtype: int64"
      ]
     },
     "execution_count": 18,
     "metadata": {},
     "output_type": "execute_result"
    }
   ],
   "source": [
    "# getting number of null values in all columns.\n",
    "house_df.isnull().sum()"
   ]
  },
  {
   "cell_type": "markdown",
   "id": "009529ec",
   "metadata": {
    "id": "a7m57eo9Zj2C",
    "papermill": {
     "duration": 0.011797,
     "end_time": "2025-07-16T09:24:28.312647",
     "exception": false,
     "start_time": "2025-07-16T09:24:28.300850",
     "status": "completed"
    },
    "tags": []
   },
   "source": [
    "* This Data does not contain any null values that good of us."
   ]
  },
  {
   "cell_type": "code",
   "execution_count": 19,
   "id": "ca87e9f7",
   "metadata": {
    "execution": {
     "iopub.execute_input": "2025-07-16T09:24:28.337881Z",
     "iopub.status.busy": "2025-07-16T09:24:28.337291Z",
     "iopub.status.idle": "2025-07-16T09:24:28.343466Z",
     "shell.execute_reply": "2025-07-16T09:24:28.342694Z"
    },
    "executionInfo": {
     "elapsed": 11,
     "status": "ok",
     "timestamp": 1752655473808,
     "user": {
      "displayName": "Aman Sagar",
      "userId": "17350048402290694597"
     },
     "user_tz": -330
    },
    "id": "Yj-BSwaAmb8t",
    "outputId": "3834aa65-8f31-4616-b7d1-85c6f13aa3d8",
    "papermill": {
     "duration": 0.020272,
     "end_time": "2025-07-16T09:24:28.344757",
     "exception": false,
     "start_time": "2025-07-16T09:24:28.324485",
     "status": "completed"
    },
    "tags": []
   },
   "outputs": [
    {
     "data": {
      "text/plain": [
       "Index(['price', 'bedrooms', 'bathrooms', 'sqft_living', 'sqft_lot', 'floors',\n",
       "       'waterfront', 'view', 'condition', 'sqft_above', 'sqft_basement',\n",
       "       'yr_built', 'yr_renovated'],\n",
       "      dtype='object')"
      ]
     },
     "execution_count": 19,
     "metadata": {},
     "output_type": "execute_result"
    }
   ],
   "source": [
    "# Gets all the columns with numerical data\n",
    "num_cols = house_df.select_dtypes(include=np.number).columns\n",
    "num_cols"
   ]
  },
  {
   "cell_type": "markdown",
   "id": "e4544f3c",
   "metadata": {
    "id": "lyYl58GBZqki",
    "papermill": {
     "duration": 0.011935,
     "end_time": "2025-07-16T09:24:28.369101",
     "exception": false,
     "start_time": "2025-07-16T09:24:28.357166",
     "status": "completed"
    },
    "tags": []
   },
   "source": [
    "* Seperated all the features with numerical values."
   ]
  },
  {
   "cell_type": "markdown",
   "id": "e758c381",
   "metadata": {
    "id": "3OCX3bvfaFmh",
    "papermill": {
     "duration": 0.012041,
     "end_time": "2025-07-16T09:24:28.393304",
     "exception": false,
     "start_time": "2025-07-16T09:24:28.381263",
     "status": "completed"
    },
    "tags": []
   },
   "source": [
    "### Creating the feature variable as X and target variable as y"
   ]
  },
  {
   "cell_type": "code",
   "execution_count": 20,
   "id": "ee454f6a",
   "metadata": {
    "execution": {
     "iopub.execute_input": "2025-07-16T09:24:28.419427Z",
     "iopub.status.busy": "2025-07-16T09:24:28.418681Z",
     "iopub.status.idle": "2025-07-16T09:24:28.426779Z",
     "shell.execute_reply": "2025-07-16T09:24:28.425982Z"
    },
    "executionInfo": {
     "elapsed": 6,
     "status": "ok",
     "timestamp": 1752655912856,
     "user": {
      "displayName": "Aman Sagar",
      "userId": "17350048402290694597"
     },
     "user_tz": -330
    },
    "id": "j2rd7nMimj98",
    "papermill": {
     "duration": 0.022728,
     "end_time": "2025-07-16T09:24:28.428251",
     "exception": false,
     "start_time": "2025-07-16T09:24:28.405523",
     "status": "completed"
    },
    "tags": []
   },
   "outputs": [],
   "source": [
    "# X contains all the numerical columns except fr 'price'\n",
    "X = house_df[num_cols].drop('price', axis=1)\n",
    "\n",
    "# y contains our target variable\n",
    "y = house_df['price']"
   ]
  },
  {
   "cell_type": "markdown",
   "id": "9f260e64",
   "metadata": {
    "id": "HkwD5EFAaW3_",
    "papermill": {
     "duration": 0.011861,
     "end_time": "2025-07-16T09:24:28.452502",
     "exception": false,
     "start_time": "2025-07-16T09:24:28.440641",
     "status": "completed"
    },
    "tags": []
   },
   "source": [
    "### Splitting the data into training and testing data for checking how our model performs on unseen data."
   ]
  },
  {
   "cell_type": "code",
   "execution_count": 21,
   "id": "05806c03",
   "metadata": {
    "execution": {
     "iopub.execute_input": "2025-07-16T09:24:28.477954Z",
     "iopub.status.busy": "2025-07-16T09:24:28.477650Z",
     "iopub.status.idle": "2025-07-16T09:24:28.722697Z",
     "shell.execute_reply": "2025-07-16T09:24:28.721887Z"
    },
    "executionInfo": {
     "elapsed": 873,
     "status": "ok",
     "timestamp": 1752655915435,
     "user": {
      "displayName": "Aman Sagar",
      "userId": "17350048402290694597"
     },
     "user_tz": -330
    },
    "id": "5yDIG7H1mt8a",
    "papermill": {
     "duration": 0.259774,
     "end_time": "2025-07-16T09:24:28.724352",
     "exception": false,
     "start_time": "2025-07-16T09:24:28.464578",
     "status": "completed"
    },
    "tags": []
   },
   "outputs": [],
   "source": [
    "# Importing the train_test_split function from sklean\n",
    "from sklearn.model_selection import train_test_split\n",
    "\n",
    "# Seperating the 80% data as test and 20% as test\n",
    "X_train, X_test, y_train, y_test = train_test_split(X, y, test_size=0.2, random_state=42)"
   ]
  },
  {
   "cell_type": "markdown",
   "id": "0e69c469",
   "metadata": {
    "id": "QhQE9bgsbWcU",
    "papermill": {
     "duration": 0.0123,
     "end_time": "2025-07-16T09:24:28.750616",
     "exception": false,
     "start_time": "2025-07-16T09:24:28.738316",
     "status": "completed"
    },
    "tags": []
   },
   "source": [
    "### Training the model which was created above\n",
    "\n",
    "* Since the Simple Linear Regression model accept only one `feature` I am using `sqft_living` from this `house_df` dataframe."
   ]
  },
  {
   "cell_type": "code",
   "execution_count": 22,
   "id": "b2c3e279",
   "metadata": {
    "execution": {
     "iopub.execute_input": "2025-07-16T09:24:28.777163Z",
     "iopub.status.busy": "2025-07-16T09:24:28.776311Z",
     "iopub.status.idle": "2025-07-16T09:24:28.785002Z",
     "shell.execute_reply": "2025-07-16T09:24:28.784190Z"
    },
    "executionInfo": {
     "elapsed": 5,
     "status": "ok",
     "timestamp": 1752655916075,
     "user": {
      "displayName": "Aman Sagar",
      "userId": "17350048402290694597"
     },
     "user_tz": -330
    },
    "id": "KSrEUYs9m4-j",
    "papermill": {
     "duration": 0.023335,
     "end_time": "2025-07-16T09:24:28.786310",
     "exception": false,
     "start_time": "2025-07-16T09:24:28.762975",
     "status": "completed"
    },
    "tags": []
   },
   "outputs": [],
   "source": [
    "# Initiating SimpleLinearRegression which was created above\n",
    "simple_house_model = SimpleLinearRegression()\n",
    "\n",
    "# Training the our model on test data\n",
    "simple_house_model.fit(X_train['sqft_living'], y_train)"
   ]
  },
  {
   "cell_type": "markdown",
   "id": "07eaad14",
   "metadata": {
    "id": "sYK-DbDnbvg0",
    "papermill": {
     "duration": 0.012109,
     "end_time": "2025-07-16T09:24:28.810961",
     "exception": false,
     "start_time": "2025-07-16T09:24:28.798852",
     "status": "completed"
    },
    "tags": []
   },
   "source": [
    "### Predicting the test data and checking the performance metrices"
   ]
  },
  {
   "cell_type": "code",
   "execution_count": 23,
   "id": "d57f1a91",
   "metadata": {
    "execution": {
     "iopub.execute_input": "2025-07-16T09:24:28.837311Z",
     "iopub.status.busy": "2025-07-16T09:24:28.836453Z",
     "iopub.status.idle": "2025-07-16T09:24:28.859323Z",
     "shell.execute_reply": "2025-07-16T09:24:28.858397Z"
    },
    "executionInfo": {
     "elapsed": 16,
     "status": "ok",
     "timestamp": 1752656032930,
     "user": {
      "displayName": "Aman Sagar",
      "userId": "17350048402290694597"
     },
     "user_tz": -330
    },
    "id": "Bjuzsli3oA7-",
    "outputId": "ddf41ff1-2cab-4a0a-8e67-c9b55c5d3d65",
    "papermill": {
     "duration": 0.037374,
     "end_time": "2025-07-16T09:24:28.860693",
     "exception": false,
     "start_time": "2025-07-16T09:24:28.823319",
     "status": "completed"
    },
    "tags": []
   },
   "outputs": [
    {
     "name": "stdout",
     "output_type": "stream",
     "text": [
      "0.2882612953080661\n",
      "273158.27622609667\n"
     ]
    }
   ],
   "source": [
    "# Storing all the prediction in a varable named y_pred\n",
    "y_pred = simple_house_model.predict(X_test['sqft_living'])\n",
    "\n",
    "# Printing the R-squared error using .score() function from the same class\n",
    "print(simple_house_model.score(X_test['sqft_living'], y_test))\n",
    "\n",
    "# Printing the mean square error from the same class\n",
    "print(np.sqrt(simple_house_model.mean_squared_error(y_test, y_pred)))"
   ]
  },
  {
   "cell_type": "markdown",
   "id": "0cbe9823",
   "metadata": {
    "id": "ZfjL4xcRcLqp",
    "papermill": {
     "duration": 0.01208,
     "end_time": "2025-07-16T09:24:28.885650",
     "exception": false,
     "start_time": "2025-07-16T09:24:28.873570",
     "status": "completed"
    },
    "tags": []
   },
   "source": [
    "* This both metrices are not the much good number for being that confident about out prediction.\n",
    "\n",
    "* But How well our model performed as compare to the actual LinearRegresion model from sklearn library. Let's check this."
   ]
  },
  {
   "cell_type": "code",
   "execution_count": 24,
   "id": "8170116f",
   "metadata": {
    "execution": {
     "iopub.execute_input": "2025-07-16T09:24:28.911875Z",
     "iopub.status.busy": "2025-07-16T09:24:28.911087Z",
     "iopub.status.idle": "2025-07-16T09:24:29.019895Z",
     "shell.execute_reply": "2025-07-16T09:24:29.018865Z"
    },
    "executionInfo": {
     "elapsed": 10,
     "status": "ok",
     "timestamp": 1752656874126,
     "user": {
      "displayName": "Aman Sagar",
      "userId": "17350048402290694597"
     },
     "user_tz": -330
    },
    "id": "Ip21gIa8rWhV",
    "outputId": "cc1529b2-61f1-4b3f-bd42-268191bd8377",
    "papermill": {
     "duration": 0.123415,
     "end_time": "2025-07-16T09:24:29.021361",
     "exception": false,
     "start_time": "2025-07-16T09:24:28.897946",
     "status": "completed"
    },
    "tags": []
   },
   "outputs": [
    {
     "name": "stdout",
     "output_type": "stream",
     "text": [
      "0.2882612953080661\n",
      "273158.27622609667\n"
     ]
    }
   ],
   "source": [
    "# Importing the LinearRegression model from sklearn\n",
    "from sklearn.linear_model import LinearRegression\n",
    "\n",
    "# This model means to get mean squre error imported from metrics\n",
    "from sklearn.metrics import mean_squared_error\n",
    "\n",
    "# Initiating the model\n",
    "sk_simple_model = LinearRegression()\n",
    "\n",
    "# Traning the model\n",
    "sk_simple_model.fit(X_train[['sqft_living']], y_train)\n",
    "\n",
    "# Predicting the test data\n",
    "y_sk_pred = sk_simple_model.predict(X_test[['sqft_living']])\n",
    "\n",
    "# Printing the score and mean squared error\n",
    "print(sk_simple_model.score(X_test[['sqft_living']], y_test))\n",
    "print(np.sqrt(mean_squared_error(y_test, y_sk_pred)))"
   ]
  },
  {
   "cell_type": "markdown",
   "id": "0a6b7c85",
   "metadata": {
    "id": "9HV1vgA4dFPV",
    "papermill": {
     "duration": 0.012486,
     "end_time": "2025-07-16T09:24:29.046978",
     "exception": false,
     "start_time": "2025-07-16T09:24:29.034492",
     "status": "completed"
    },
    "tags": []
   },
   "source": [
    "* Both The model we defined and the model from sklearn performed same as we can see both have same score and mean square error."
   ]
  },
  {
   "cell_type": "markdown",
   "id": "b1286953",
   "metadata": {
    "id": "OYPGDq5jdVGv",
    "papermill": {
     "duration": 0.012224,
     "end_time": "2025-07-16T09:24:29.071698",
     "exception": false,
     "start_time": "2025-07-16T09:24:29.059474",
     "status": "completed"
    },
    "tags": []
   },
   "source": [
    "### Let's visualize the data and the regression line"
   ]
  },
  {
   "cell_type": "code",
   "execution_count": 25,
   "id": "9d740f7c",
   "metadata": {
    "execution": {
     "iopub.execute_input": "2025-07-16T09:24:29.098169Z",
     "iopub.status.busy": "2025-07-16T09:24:29.097385Z",
     "iopub.status.idle": "2025-07-16T09:24:29.279396Z",
     "shell.execute_reply": "2025-07-16T09:24:29.278559Z"
    },
    "executionInfo": {
     "elapsed": 15,
     "status": "ok",
     "timestamp": 1752657100845,
     "user": {
      "displayName": "Aman Sagar",
      "userId": "17350048402290694597"
     },
     "user_tz": -330
    },
    "id": "B78PSgJvqIHA",
    "outputId": "04c89271-2761-4fa3-f482-08a04e42ee69",
    "papermill": {
     "duration": 0.196743,
     "end_time": "2025-07-16T09:24:29.280856",
     "exception": false,
     "start_time": "2025-07-16T09:24:29.084113",
     "status": "completed"
    },
    "tags": []
   },
   "outputs": [
    {
     "data": {
      "image/png": "[encoded data removed]",
      "text/plain": [
       "<Figure size 640x480 with 1 Axes>"
      ]
     },
     "metadata": {},
     "output_type": "display_data"
    }
   ],
   "source": [
    "# Scatters the data in the plot\n",
    "sns.scatterplot(x=X['sqft_living'], y=y)\n",
    "\n",
    "# Plotting the regression line\n",
    "plt.plot(X_test['sqft_living'], y_pred, color='red')\n",
    "\n",
    "# Setting the title\n",
    "plt.title(\"House Price vs Size\")\n",
    "\n",
    "# Setting the x and the y labels\n",
    "plt.xlabel(\"Size (sqft)\")\n",
    "plt.ylabel(\"Price (dollars)\")\n",
    "\n",
    "# Shows the graph\n",
    "plt.show()"
   ]
  },
  {
   "cell_type": "markdown",
   "id": "97886dd4",
   "metadata": {
    "id": "j-A64SYAdnut",
    "papermill": {
     "duration": 0.012936,
     "end_time": "2025-07-16T09:24:29.307470",
     "exception": false,
     "start_time": "2025-07-16T09:24:29.294534",
     "status": "completed"
    },
    "tags": []
   },
   "source": [
    "### Let's see the `MultipleLinearRegression` model on tha actual data."
   ]
  },
  {
   "cell_type": "code",
   "execution_count": 26,
   "id": "1f52ef2e",
   "metadata": {
    "execution": {
     "iopub.execute_input": "2025-07-16T09:24:29.335045Z",
     "iopub.status.busy": "2025-07-16T09:24:29.334300Z",
     "iopub.status.idle": "2025-07-16T09:24:29.344560Z",
     "shell.execute_reply": "2025-07-16T09:24:29.343703Z"
    },
    "executionInfo": {
     "elapsed": 4,
     "status": "ok",
     "timestamp": 1752656889213,
     "user": {
      "displayName": "Aman Sagar",
      "userId": "17350048402290694597"
     },
     "user_tz": -330
    },
    "id": "6g7me7RFqW3v",
    "papermill": {
     "duration": 0.02556,
     "end_time": "2025-07-16T09:24:29.345997",
     "exception": false,
     "start_time": "2025-07-16T09:24:29.320437",
     "status": "completed"
    },
    "tags": []
   },
   "outputs": [],
   "source": [
    "# Initiating the model\n",
    "multiple_house_model = MultipleLinearRegression()\n",
    "\n",
    "# Training the the model with all the numerical columns\n",
    "multiple_house_model.fit(X_train, y_train)"
   ]
  },
  {
   "cell_type": "markdown",
   "id": "ce3eadf4",
   "metadata": {
    "id": "tJADUgqod3H3",
    "papermill": {
     "duration": 0.013015,
     "end_time": "2025-07-16T09:24:29.372387",
     "exception": false,
     "start_time": "2025-07-16T09:24:29.359372",
     "status": "completed"
    },
    "tags": []
   },
   "source": [
    "### Predicting the test data"
   ]
  },
  {
   "cell_type": "code",
   "execution_count": 27,
   "id": "9c4d0a44",
   "metadata": {
    "execution": {
     "iopub.execute_input": "2025-07-16T09:24:29.400538Z",
     "iopub.status.busy": "2025-07-16T09:24:29.399797Z",
     "iopub.status.idle": "2025-07-16T09:24:29.412682Z",
     "shell.execute_reply": "2025-07-16T09:24:29.411792Z"
    },
    "executionInfo": {
     "elapsed": 6,
     "status": "ok",
     "timestamp": 1752656892179,
     "user": {
      "displayName": "Aman Sagar",
      "userId": "17350048402290694597"
     },
     "user_tz": -330
    },
    "id": "JmA7bZjdsT6Y",
    "outputId": "c92e3d79-eb38-4b9d-aa97-64e4f1a0fe9c",
    "papermill": {
     "duration": 0.028568,
     "end_time": "2025-07-16T09:24:29.414121",
     "exception": false,
     "start_time": "2025-07-16T09:24:29.385553",
     "status": "completed"
    },
    "tags": []
   },
   "outputs": [
    {
     "name": "stdout",
     "output_type": "stream",
     "text": [
      "0.37394569161796354\n",
      "256188.7625349853\n"
     ]
    }
   ],
   "source": [
    "# Predicting the test data\n",
    "mul_y_pred = multiple_house_model.predict(X_test)\n",
    "\n",
    "# Calculating the score and the mean squared error\n",
    "print(multiple_house_model.score(X_test, y_test))\n",
    "print(np.sqrt(multiple_house_model.mean_squared_error(y_test, mul_y_pred)))"
   ]
  },
  {
   "cell_type": "markdown",
   "id": "8eddfd20",
   "metadata": {
    "id": "PbsLqKH-eEdg",
    "papermill": {
     "duration": 0.013021,
     "end_time": "2025-07-16T09:24:29.440720",
     "exception": false,
     "start_time": "2025-07-16T09:24:29.427699",
     "status": "completed"
    },
    "tags": []
   },
   "source": [
    "* AS we can see the score is not that improved as compared to the linear model but this one is also not that much to be confident about our prediction.\n",
    "\n",
    "* This score can we improved using the some methods like features creation, stanadardization etc.\n",
    "\n",
    "* Let's cmpare it with the actual model from sklearn."
   ]
  },
  {
   "cell_type": "code",
   "execution_count": 28,
   "id": "acad7fab",
   "metadata": {
    "execution": {
     "iopub.execute_input": "2025-07-16T09:24:29.468511Z",
     "iopub.status.busy": "2025-07-16T09:24:29.467957Z",
     "iopub.status.idle": "2025-07-16T09:24:29.490071Z",
     "shell.execute_reply": "2025-07-16T09:24:29.489050Z"
    },
    "executionInfo": {
     "elapsed": 15,
     "status": "ok",
     "timestamp": 1752656896070,
     "user": {
      "displayName": "Aman Sagar",
      "userId": "17350048402290694597"
     },
     "user_tz": -330
    },
    "id": "rnkrK84mscdh",
    "outputId": "578db514-29a8-4d6d-cc5e-dac6a51269a1",
    "papermill": {
     "duration": 0.037603,
     "end_time": "2025-07-16T09:24:29.491591",
     "exception": false,
     "start_time": "2025-07-16T09:24:29.453988",
     "status": "completed"
    },
    "tags": []
   },
   "outputs": [
    {
     "name": "stdout",
     "output_type": "stream",
     "text": [
      "0.37475248028195784\n",
      "256023.635628725\n"
     ]
    }
   ],
   "source": [
    "# Initiating the model\n",
    "sk_multiple_model =  LinearRegression()\n",
    "\n",
    "# Traning the model\n",
    "sk_multiple_model.fit(X_train, y_train)\n",
    "\n",
    "# Predictin the test data\n",
    "sk_mul_y_pred = sk_multiple_model.predict(X_test)\n",
    "\n",
    "# Getting the score and mean square error.\n",
    "print(sk_multiple_model.score(X_test, y_test))\n",
    "print(np.sqrt(mean_squared_error(y_test, sk_mul_y_pred)))"
   ]
  },
  {
   "cell_type": "markdown",
   "id": "f28b4d3b",
   "metadata": {
    "id": "ePQ4GROpffng",
    "papermill": {
     "duration": 0.01328,
     "end_time": "2025-07-16T09:24:29.518502",
     "exception": false,
     "start_time": "2025-07-16T09:24:29.505222",
     "status": "completed"
    },
    "tags": []
   },
   "source": [
    "* Both our model and the sklearn model performs same for this datasets."
   ]
  },
  {
   "cell_type": "markdown",
   "id": "93a79b73",
   "metadata": {
    "id": "Z2u32du3fpDI",
    "papermill": {
     "duration": 0.013065,
     "end_time": "2025-07-16T09:24:29.544918",
     "exception": false,
     "start_time": "2025-07-16T09:24:29.531853",
     "status": "completed"
    },
    "tags": []
   },
   "source": [
    "### Let's visualize the prediected values and regression line"
   ]
  },
  {
   "cell_type": "code",
   "execution_count": 29,
   "id": "74b90380",
   "metadata": {
    "execution": {
     "iopub.execute_input": "2025-07-16T09:24:29.573038Z",
     "iopub.status.busy": "2025-07-16T09:24:29.572735Z",
     "iopub.status.idle": "2025-07-16T09:24:29.765645Z",
     "shell.execute_reply": "2025-07-16T09:24:29.764683Z"
    },
    "executionInfo": {
     "elapsed": 1488,
     "status": "ok",
     "timestamp": 1752657029191,
     "user": {
      "displayName": "Aman Sagar",
      "userId": "17350048402290694597"
     },
     "user_tz": -330
    },
    "id": "HyZgZscN1Xde",
    "outputId": "5d589d52-0725-4394-d041-6b8cecfb657e",
    "papermill": {
     "duration": 0.208961,
     "end_time": "2025-07-16T09:24:29.767364",
     "exception": false,
     "start_time": "2025-07-16T09:24:29.558403",
     "status": "completed"
    },
    "tags": []
   },
   "outputs": [
    {
     "name": "stderr",
     "output_type": "stream",
     "text": [
      "/tmp/ipykernel_13/3385365854.py:12: UserWarning: color is redundantly defined by the 'color' keyword argument and the fmt string \"k--\" (-> color='k'). The keyword argument will take precedence.\n",
      "  plt.plot([y_test.min(), y_test.max()], [y_test.min(), y_test.max()], 'k--', lw=2, color='red')\n"
     ]
    },
    {
     "data": {
      "image/png": "[encoded data removed]",
      "text/plain": [
       "<Figure size 640x480 with 1 Axes>"
      ]
     },
     "metadata": {},
     "output_type": "display_data"
    }
   ],
   "source": [
    "# Scatters the actual and predicted values on the graph\n",
    "plt.scatter(y_test, mul_y_pred, alpha=0.5)\n",
    "\n",
    "# Setting the x-label and y-label\n",
    "plt.xlabel(\"Actual Prices\")\n",
    "plt.ylabel(\"Predicted Prices (Multiple Regression)\")\n",
    "\n",
    "# giving a title to the graph\n",
    "plt.title(\"Actual vs Predicted Prices (Multiple Linear Regression)\")\n",
    "\n",
    "# Add a line representing perfect prediction\n",
    "plt.plot([y_test.min(), y_test.max()], [y_test.min(), y_test.max()], 'k--', lw=2, color='red')\n",
    "plt.show()"
   ]
  },
  {
   "cell_type": "markdown",
   "id": "c66b331e",
   "metadata": {
    "id": "ef610d00",
    "papermill": {
     "duration": 0.014397,
     "end_time": "2025-07-16T09:24:29.797687",
     "exception": false,
     "start_time": "2025-07-16T09:24:29.783290",
     "status": "completed"
    },
    "tags": []
   },
   "source": [
    "# Notebook Summary Report\n",
    "\n",
    "This notebook demonstrates the implementation of Simple and Multiple Linear Regression models from scratch using NumPy. It also compares the performance of these custom models with the corresponding models from the scikit-learn library.\n",
    "\n",
    "**Key Sections:**\n",
    "\n",
    "*   **Simple Linear Regression:** Implements a simple linear regression model from scratch using the formula `y = mx + b`. It includes methods for fitting the model, making predictions, calculating the R-squared score, and calculating the Mean Squared Error (MSE). A simple example with pizza size and price is used for demonstration.\n",
    "*   **Multiple Linear Regression:** Implements a multiple linear regression model from scratch using matrix operations (the normal equation). It includes methods for fitting the model, making predictions, calculating the R-squared score, and calculating the MSE. A simple example with house size and number of bedrooms is used for demonstration.\n",
    "*   **Real Dataset Application:** Applies both the custom-built Simple and Multiple Linear Regression models and the scikit-learn versions to the USA Housing Dataset to predict house prices. The performance of the models is evaluated using R-squared and RMSE (Root Mean Squared Error).\n",
    "\n",
    "**Dataset:**\n",
    "\n",
    "*   **USA Housing Dataset:** This dataset is used to test the performance of the implemented models on real-world data. It contains various features related to houses and their corresponding prices.\n",
    "\n",
    "**Model Comparison:**\n",
    "\n",
    "The notebook compares the performance metrics (R-squared and RMSE) of the custom-built models with the scikit-learn models on the USA Housing Dataset, showing that the custom implementations yield similar results to the established library.\n",
    "\n",
    "**Visualizations:**\n",
    "\n",
    "The notebook includes visualizations to show the relationship between features and the target variable, as well as the performance of the linear regression models.\n",
    "\n",
    "**Conclusion:**\n",
    "\n",
    "The notebook successfully demonstrates the implementation of linear regression models from scratch and validates their performance against scikit-learn's implementations using a real-world dataset."
   ]
  }
 ],
 "metadata": {
  "colab": {
   "authorship_tag": "ABX9TyOLTzyRYerebLlpz58IZZnV",
   "provenance": []
  },
  "kaggle": {
   "accelerator": "none",
   "dataSources": [
    {
     "datasetId": 7878511,
     "sourceId": 12485568,
     "sourceType": "datasetVersion"
    }
   ],
   "isGpuEnabled": false,
   "isInternetEnabled": true,
   "language": "python",
   "sourceType": "notebook"
  },
  "kernelspec": {
   "display_name": "Python 3",
   "name": "python3"
  },
  "language_info": {
   "codemirror_mode": {
    "name": "ipython",
    "version": 3
   },
   "file_extension": ".py",
   "mimetype": "text/x-python",
   "name": "python",
   "nbconvert_exporter": "python",
   "pygments_lexer": "ipython3",
   "version": "3.11.13"
  },
  "papermill": {
   "default_parameters": {},
   "duration": 12.611387,
   "end_time": "2025-07-16T09:24:30.432376",
   "environment_variables": {},
   "exception": null,
   "input_path": "__notebook__.ipynb",
   "output_path": "__notebook__.ipynb",
   "parameters": {},
   "start_time": "2025-07-16T09:24:17.820989",
   "version": "2.6.0"
  }
 },
 "nbformat": 4,
 "nbformat_minor": 5
}
